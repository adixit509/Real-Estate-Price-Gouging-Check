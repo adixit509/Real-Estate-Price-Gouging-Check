import pandas as pd
import numpy as np
import matplotlib.pyplot as plt
import seaborn as sns
from sklearn.model_selection import train_test_split
from sklearn.linear_model import LinearRegression
from sklearn.metrics import mean_squared_error, mean_absolute_error
from sklearn import preprocessing
  
# importing data
df = pd.read_csv('C:/Users/Admin/Downloads/Real estate.csv')
df.drop('No', inplace=True, axis=1)

print(df.head())
  
print(df.columns)
  
# plotting a scatterplot
sns.scatterplot(x='X2 house age',
                y='Y house price of unit area',  data=df)
  
# creating feature variables
X = df.drop('Y house price of unit area', axis=1)
y = df['Y house price of unit area']
  
print(X)
print(y)
  
# creating train and test sets
X_train, X_test, y_train, y_test = train_test_split(
    X, y, test_size=0.3, random_state=101)
  
# creating a regression model
model = LinearRegression()

# fitting the model
model.fit(X_train, y_train)
  
# making predictions
predictions = model.predict(X_test)

# model evaluation
print('mean_squared_error : ', mean_squared_error(y_test, predictions))
print('mean_absolute_error : ', mean_absolute_error(y_test, predictions))
df2=pd.read_csv('C:/Users/Admin/Desktop/Inputs.csv')
df2.drop('No',inplace=True,axis=1)
X1=df2.drop('Y house price of unit area',axis=1)
Y1=df2['Y house price of unit area']
f=float(model.predict(X1))
h=float(df2.loc[0].at["Y house price of unit area"])
